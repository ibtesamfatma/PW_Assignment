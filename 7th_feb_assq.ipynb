{
 "cells": [
  {
   "cell_type": "code",
   "execution_count": 5,
   "id": "87e0e2ae-00ed-4f82-baa0-fae068fc4dbf",
   "metadata": {},
   "outputs": [],
   "source": [
    "import re\n",
    "def password_check(password):\n",
    "    x = list(\"!#$%&'()*+,-./:;<=>?@[\\]^_`{|}~\")\n",
    "    count1 = 0\n",
    "    count2 = 0\n",
    "    count3 = 0\n",
    "    count4 = 0\n",
    "    a = list(password)\n",
    "    for i in a:\n",
    "        if(i.islower()):\n",
    "            count1=count1+1\n",
    "        elif(i.isupper()):\n",
    "            count2=count2+1\n",
    "    \n",
    "    for i in a:\n",
    "        if (i.isnumeric()):\n",
    "            count3 += 1\n",
    "            \n",
    "    for i in a:\n",
    "        if( i in x==True):\n",
    "            count4 +=1\n",
    "        \n",
    "            \n",
    "    if count1 >= 2 and count2>= 2:\n",
    "        if count3 >=1 and count4>=3:\n",
    "            if len(password) >=10:\n",
    "                print(\"Valid Password\")\n",
    "    else:\n",
    "        print(\"Invalid Password\")\n",
    "    "
   ]
  },
  {
   "cell_type": "code",
   "execution_count": 6,
   "id": "d72aa63d-893d-4fa3-8576-cf5e0d4c23f2",
   "metadata": {},
   "outputs": [],
   "source": [
    "password_check(\"II534fsj*&^\")\n"
   ]
  },
  {
   "cell_type": "code",
   "execution_count": null,
   "id": "e965208c-ac7b-4863-ad66-a39ff21a4c56",
   "metadata": {},
   "outputs": [],
   "source": [
    "#Q2"
   ]
  },
  {
   "cell_type": "code",
   "execution_count": 1,
   "id": "74f80559-40e1-424d-8ddb-9fc450e07436",
   "metadata": {},
   "outputs": [],
   "source": [
    "from functools import reduce "
   ]
  },
  {
   "cell_type": "code",
   "execution_count": 19,
   "id": "ad1e7555-7bd5-4b63-ac47-3e90a56130f0",
   "metadata": {},
   "outputs": [
    {
     "name": "stdout",
     "output_type": "stream",
     "text": [
      "['banana']\n"
     ]
    }
   ],
   "source": [
    "strings = ['apple', 'banana', 'cat', 'dog']\n",
    "letter = 'b'\n",
    "\n",
    "filtered_strings = list(filter(lambda s: s[0].upper() ==\"B\", strings))\n",
    "\n",
    "print(filtered_strings) \n"
   ]
  },
  {
   "cell_type": "code",
   "execution_count": 20,
   "id": "73404507-d9d6-4901-aa30-479427b316cb",
   "metadata": {},
   "outputs": [
    {
     "name": "stdout",
     "output_type": "stream",
     "text": [
      "['123', '564']\n"
     ]
    }
   ],
   "source": [
    "l = ['123','rtr','564']\n",
    "\n",
    "print(list(filter(lambda x : x.isnumeric(), l)))\n"
   ]
  },
  {
   "cell_type": "code",
   "execution_count": 24,
   "id": "c01e9ff9-f76a-4fa5-8a7d-a077d8b8d90b",
   "metadata": {},
   "outputs": [
    {
     "name": "stdout",
     "output_type": "stream",
     "text": [
      "[('grapes', 1000), ('mango', 99), ('orange', 80)]\n"
     ]
    }
   ],
   "source": [
    "fruits = [(\"mango\",99),(\"orange\",80), (\"grapes\", 1000)]\n",
    "\n",
    "sorted_fruits = sorted(fruits, key = lambda x:x[1], reverse = True)\n",
    "print(sorted_fruits)"
   ]
  },
  {
   "cell_type": "code",
   "execution_count": 27,
   "id": "274a1193-3e26-4e79-9b82-bfca99ad5a19",
   "metadata": {},
   "outputs": [
    {
     "data": {
      "text/plain": [
       "[1, 4, 9, 16, 25, 36, 49, 64, 81, 100]"
      ]
     },
     "execution_count": 27,
     "metadata": {},
     "output_type": "execute_result"
    }
   ],
   "source": [
    "l = list(range(1,11))\n",
    "list(map(lambda x:x**2,l))"
   ]
  },
  {
   "cell_type": "code",
   "execution_count": 30,
   "id": "02406031-6d7a-41d9-af81-a57a1b1380fa",
   "metadata": {},
   "outputs": [
    {
     "data": {
      "text/plain": [
       "[1, 8, 27, 64, 125, 216, 343, 512, 729, 1000]"
      ]
     },
     "execution_count": 30,
     "metadata": {},
     "output_type": "execute_result"
    }
   ],
   "source": [
    "l = list(range(1,11))\n",
    "[x**3 for x in l]"
   ]
  },
  {
   "cell_type": "code",
   "execution_count": 31,
   "id": "4cfa643e-9ddb-4370-a05d-46b228458846",
   "metadata": {},
   "outputs": [
    {
     "data": {
      "text/plain": [
       "[2, 4, 6, 8, 10, 12, 14, 16, 18, 20]"
      ]
     },
     "execution_count": 31,
     "metadata": {},
     "output_type": "execute_result"
    }
   ],
   "source": [
    "l = list(range(1,21))\n",
    "[x for x in l if x%2 ==0]"
   ]
  },
  {
   "cell_type": "code",
   "execution_count": 34,
   "id": "ed9122e7-9671-4ba1-bb64-434cf9a452fc",
   "metadata": {},
   "outputs": [
    {
     "data": {
      "text/plain": [
       "[1, 3, 5, 7, 9]"
      ]
     },
     "execution_count": 34,
     "metadata": {},
     "output_type": "execute_result"
    }
   ],
   "source": [
    "l = [1,2,3,4,5,6,7,8,9,10]\n",
    "list(filter(lambda x: x%2 !=0,l))"
   ]
  },
  {
   "cell_type": "code",
   "execution_count": null,
   "id": "6487d2fd-0b1f-49d2-8fbf-fd225a31ca40",
   "metadata": {},
   "outputs": [],
   "source": []
  }
 ],
 "metadata": {
  "kernelspec": {
   "display_name": "Python 3 (ipykernel)",
   "language": "python",
   "name": "python3"
  },
  "language_info": {
   "codemirror_mode": {
    "name": "ipython",
    "version": 3
   },
   "file_extension": ".py",
   "mimetype": "text/x-python",
   "name": "python",
   "nbconvert_exporter": "python",
   "pygments_lexer": "ipython3",
   "version": "3.10.8"
  }
 },
 "nbformat": 4,
 "nbformat_minor": 5
}
