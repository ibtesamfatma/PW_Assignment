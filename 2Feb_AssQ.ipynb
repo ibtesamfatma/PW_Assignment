{
 "cells": [
  {
   "cell_type": "markdown",
   "id": "985880bd-f24b-4da8-9d62-9d92cbdf98e3",
   "metadata": {},
   "source": [
    "#Q1 For loop in case of iteration is needed"
   ]
  },
  {
   "cell_type": "code",
   "execution_count": null,
   "id": "09112a5d-dfee-4f85-8f22-bccd9e90f201",
   "metadata": {},
   "outputs": [],
   "source": [
    "#Upper case the even index letter and lower case the odd position letter "
   ]
  },
  {
   "cell_type": "code",
   "execution_count": 3,
   "id": "fad84324-7d9a-48dd-8f7e-8f442cb9eaef",
   "metadata": {},
   "outputs": [
    {
     "name": "stdout",
     "output_type": "stream",
     "text": [
      "IbTeSaM\n"
     ]
    }
   ],
   "source": [
    "name = \"Ibtesam\"\n",
    "new_name = []\n",
    "for i in range(len(name)):\n",
    "    if i%2 == 0:\n",
    "        new_name.append(name[i].upper())\n",
    "    else:\n",
    "        new_name.append(name[i].lower())\n",
    "print(''.join(new_name))\n",
    "    \n",
    "    "
   ]
  },
  {
   "cell_type": "code",
   "execution_count": 1,
   "id": "e27a626f-5fc8-4e38-9e10-2d9e61bef19f",
   "metadata": {},
   "outputs": [],
   "source": [
    "# While loop till when a condition is met "
   ]
  },
  {
   "cell_type": "code",
   "execution_count": 2,
   "id": "d04d8a2b-ae1b-472b-8b5e-1ec0a5db7a16",
   "metadata": {},
   "outputs": [
    {
     "name": "stdout",
     "output_type": "stream",
     "text": [
      "1\n",
      "2\n",
      "3\n",
      "4\n",
      "5\n",
      "6\n",
      "7\n",
      "8\n",
      "9\n",
      "10\n"
     ]
    }
   ],
   "source": [
    "sum = 0 \n",
    "\n",
    "while sum<10 :\n",
    "    sum += 1\n",
    "    print(sum)"
   ]
  },
  {
   "cell_type": "code",
   "execution_count": 16,
   "id": "4caa6624-ae61-40ae-858e-c9c7bb9c4f30",
   "metadata": {},
   "outputs": [
    {
     "name": "stdout",
     "output_type": "stream",
     "text": [
      "The total sum is 55\n",
      "The total product is:3628800\n"
     ]
    }
   ],
   "source": [
    "#Q2\n",
    "sum = 0\n",
    "product = 1\n",
    "\n",
    "i = 1\n",
    "while i <= 10:\n",
    "    sum += i\n",
    "    product *= i\n",
    "    i  += 1\n",
    "    \n",
    "\n",
    "        \n",
    "print(f\"The total sum is {sum}\")\n",
    "print(\"The total product is:{}\".format(product))"
   ]
  },
  {
   "cell_type": "code",
   "execution_count": 17,
   "id": "aafa486a-9f4a-4be1-99af-0336d1131704",
   "metadata": {},
   "outputs": [
    {
     "name": "stdout",
     "output_type": "stream",
     "text": [
      "The total sum is 55\n",
      "The total product is:3628800\n"
     ]
    }
   ],
   "source": [
    "sum = 0\n",
    "product = 1\n",
    "\n",
    "for x in range(1,11):\n",
    "    sum += x\n",
    "    product *= x\n",
    "print(f\"The total sum is {sum}\")\n",
    "print(\"The total product is:{}\".format(product))\n",
    "\n"
   ]
  },
  {
   "cell_type": "code",
   "execution_count": 11,
   "id": "2cd014c9-cf4a-41ed-b614-581f66cc1cb8",
   "metadata": {},
   "outputs": [
    {
     "name": "stdin",
     "output_type": "stream",
     "text": [
      "Total units consumerd:  310\n"
     ]
    },
    {
     "name": "stdout",
     "output_type": "stream",
     "text": [
      "2250.0\n"
     ]
    }
   ],
   "source": [
    "#q3\n",
    "try:\n",
    "    unit = int(input(\"Total units consumerd: \"))\n",
    "\n",
    "\n",
    "    sum = 0 \n",
    "    if unit <= 100:\n",
    "        sum = unit*4.5\n",
    "    elif unit > 100 and unit <=200:\n",
    "        x = unit - 100\n",
    "        sum = (100*4.5) + (x*6)\n",
    "    elif unit > 200 and unit <=300:\n",
    "        y = unit - 200 \n",
    "        sum = (100*4.5) + (100*6) + (y*10)\n",
    "    elif unit >300:\n",
    "        z = unit -300\n",
    "        sum = (100*4.5) + (100*6) + (100*10) + (z*20)\n",
    "\n",
    "    print(sum) \n",
    "\n",
    "except:\n",
    "               print(\"Please entre numeric values\")\n",
    "    \n",
    "    "
   ]
  },
  {
   "cell_type": "code",
   "execution_count": 22,
   "id": "d8fa9c79-1083-4eca-bffc-91060f426b2a",
   "metadata": {},
   "outputs": [
    {
     "name": "stdout",
     "output_type": "stream",
     "text": [
      "[8, 64, 125, 216, 512, 1000, 1728, 2744, 3375, 4096, 5832, 8000, 10648, 13824, 15625, 17576, 21952, 27000, 32768, 39304, 42875, 46656, 54872, 64000, 74088, 85184, 91125, 97336, 110592, 125000, 140608, 157464, 166375, 175616, 195112, 216000, 238328, 262144, 274625, 287496, 314432, 343000, 373248, 405224, 421875, 438976, 474552, 512000, 551368, 592704, 614125, 636056, 681472, 729000, 778688, 830584, 857375, 884736, 941192, 1000000]\n"
     ]
    }
   ],
   "source": [
    "#Q4\n",
    "\n",
    "#using while loop\n",
    "\n",
    "# i = 1\n",
    "# while i <= 100:\n",
    "#     print(i**3)\n",
    "#     i += 1\n",
    "\n",
    "\n",
    "# Using for loop \n",
    "\n",
    "output = []\n",
    "\n",
    "for x in list(range(1,101)):\n",
    "    y = x**3\n",
    "    if y%4 == 0 or y%5 == 0:\n",
    "        output.append(y)\n",
    "print(output)\n",
    "    \n",
    "        \n",
    "    "
   ]
  },
  {
   "cell_type": "code",
   "execution_count": 24,
   "id": "1c99d746-f163-41ee-ac2b-a9d1f95ea604",
   "metadata": {},
   "outputs": [],
   "source": [
    "string = \"I want to become a data scientist\"\n",
    "vowels=['a', 'e','i','o','u']\n",
    "filter_vowels =[]\n",
    "\n",
    "for x in list(string):\n",
    "    if x in vowels\n"
   ]
  },
  {
   "cell_type": "code",
   "execution_count": 2,
   "id": "b07b0882-f71b-4f00-a3b6-1087bebf9fad",
   "metadata": {},
   "outputs": [
    {
     "data": {
      "text/plain": [
       "['a', 'b', 'c']"
      ]
     },
     "execution_count": 2,
     "metadata": {},
     "output_type": "execute_result"
    }
   ],
   "source": [
    "list(\"abc\")"
   ]
  },
  {
   "cell_type": "code",
   "execution_count": null,
   "id": "dc75a264-55e8-483a-ae62-e599ced04b9d",
   "metadata": {},
   "outputs": [],
   "source": []
  },
  {
   "cell_type": "code",
   "execution_count": null,
   "id": "c74609d3-8204-46f6-be1f-d2b97a53f14b",
   "metadata": {},
   "outputs": [],
   "source": []
  }
 ],
 "metadata": {
  "kernelspec": {
   "display_name": "Python 3 (ipykernel)",
   "language": "python",
   "name": "python3"
  },
  "language_info": {
   "codemirror_mode": {
    "name": "ipython",
    "version": 3
   },
   "file_extension": ".py",
   "mimetype": "text/x-python",
   "name": "python",
   "nbconvert_exporter": "python",
   "pygments_lexer": "ipython3",
   "version": "3.10.8"
  }
 },
 "nbformat": 4,
 "nbformat_minor": 5
}
