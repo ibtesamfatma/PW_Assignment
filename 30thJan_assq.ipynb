{
 "cells": [
  {
   "cell_type": "code",
   "execution_count": 4,
   "id": "95e043ec-4c7b-4953-87d5-af633bdbce40",
   "metadata": {},
   "outputs": [
    {
     "name": "stdin",
     "output_type": "stream",
     "text": [
      " Percentage :  91\n"
     ]
    },
    {
     "name": "stdout",
     "output_type": "stream",
     "text": [
      "A\n"
     ]
    }
   ],
   "source": [
    "grade = int(input( \" Percentage : \"))\n",
    "\n",
    "if grade > 90:\n",
    "    print (\"A\")\n",
    "elif grade >80 and grade <= 90:\n",
    "    print (\"B\")\n",
    "elif grade >=60 and grade <=80:\n",
    "    print(\"C\")\n",
    "else:\n",
    "    print(\"D\")"
   ]
  },
  {
   "cell_type": "code",
   "execution_count": 6,
   "id": "09505b2d-84fd-4335-a81f-6c7390409b00",
   "metadata": {},
   "outputs": [
    {
     "name": "stdin",
     "output_type": "stream",
     "text": [
      "cost_price  :  1100000\n"
     ]
    },
    {
     "name": "stdout",
     "output_type": "stream",
     "text": [
      "15%\n"
     ]
    }
   ],
   "source": [
    "cost_price = int(input( \"cost_price  : \"))\n",
    "\n",
    "if cost_price > 100000:\n",
    "    print (\"15%\")\n",
    "elif cost_price >50000 and cost_price <= 100000:\n",
    "    print (\"10%\")\n",
    "else:\n",
    "    print(\"5%\")"
   ]
  },
  {
   "cell_type": "code",
   "execution_count": 10,
   "id": "6558e4e3-213a-4b0f-bb29-9f0f155a6b36",
   "metadata": {},
   "outputs": [
    {
     "name": "stdin",
     "output_type": "stream",
     "text": [
      "city:  Delhi\n"
     ]
    },
    {
     "name": "stdout",
     "output_type": "stream",
     "text": [
      "Red Fort\n"
     ]
    }
   ],
   "source": [
    "city = input( \"city: \")\n",
    "\n",
    "if city == \"Delhi\":\n",
    "    print (\"Red Fort\")\n",
    "elif city == \"Agra\":\n",
    "    \n",
    "    print (\"Taj Mahal\")\n",
    "elif city == \"Jaipur\":\n",
    "    print (\"Jai Mahal\")"
   ]
  },
  {
   "cell_type": "code",
   "execution_count": null,
   "id": "0845fc50-b1cd-4fa5-94a7-137f09e596b5",
   "metadata": {},
   "outputs": [],
   "source": []
  },
  {
   "cell_type": "code",
   "execution_count": 29,
   "id": "9f704182-5fe1-4f4d-a7d3-47df3961198d",
   "metadata": {},
   "outputs": [
    {
     "name": "stdin",
     "output_type": "stream",
     "text": [
      "Number : 4368\n"
     ]
    },
    {
     "name": "stdout",
     "output_type": "stream",
     "text": [
      "6\n"
     ]
    }
   ],
   "source": [
    "num = int(input(\"Number :\"))\n",
    "\n",
    "count_times = 0 \n",
    "num_left = num \n",
    "while num_left >= 10:\n",
    "    num_left  = num_left // 3\n",
    "    count_times += 1\n",
    "print(count_times)\n",
    "    "
   ]
  },
  {
   "cell_type": "markdown",
   "id": "92550df3-79f4-4977-a08a-a81b7ab3e4b0",
   "metadata": {},
   "source": [
    "When we are not aware on the count of iteration required \n",
    "but we know the condition till when it should run we use while loop\n"
   ]
  },
  {
   "cell_type": "code",
   "execution_count": 31,
   "id": "7ab5def0-02f2-4bdd-86fe-fac2399056b7",
   "metadata": {},
   "outputs": [
    {
     "name": "stdout",
     "output_type": "stream",
     "text": [
      "1 *******\n",
      "1 ######\n",
      "1 &&&&&\n",
      "2 &&&&&\n",
      "3 &&&&&\n",
      "3 ######\n",
      "1 &&&&&\n",
      "2 &&&&&\n",
      "3 &&&&&\n"
     ]
    }
   ],
   "source": [
    "i=1\n",
    "while i<=3 :\n",
    "    print(i,\"*******\")\n",
    "    j=1\n",
    "    while j<=3:\n",
    "        print(j,\"######\")\n",
    "        k=1 \n",
    "        while k<=3:\n",
    "            print(k,\"&&&&&\")\n",
    "            k+=1\n",
    "        j+=2\n",
    "    i+=3;"
   ]
  },
  {
   "cell_type": "code",
   "execution_count": null,
   "id": "9f90b702-924d-479c-a5af-1bc5cfd82ed4",
   "metadata": {},
   "outputs": [],
   "source": [
    "i = 10\n",
    "while i >= 1:\n",
    "    "
   ]
  }
 ],
 "metadata": {
  "kernelspec": {
   "display_name": "Python 3 (ipykernel)",
   "language": "python",
   "name": "python3"
  },
  "language_info": {
   "codemirror_mode": {
    "name": "ipython",
    "version": 3
   },
   "file_extension": ".py",
   "mimetype": "text/x-python",
   "name": "python",
   "nbconvert_exporter": "python",
   "pygments_lexer": "ipython3",
   "version": "3.10.8"
  }
 },
 "nbformat": 4,
 "nbformat_minor": 5
}
