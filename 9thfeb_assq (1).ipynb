{
 "cells": [
  {
   "cell_type": "code",
   "execution_count": 1,
   "id": "56f44694-02f4-4974-ac9d-8787f2472390",
   "metadata": {},
   "outputs": [],
   "source": [
    "class Vehicle:\n",
    "    \n",
    "    def __init__(self, name_of_vehicle,max_speed,average_of_vehicle):\n",
    "        self.name_of_vehicle = name_of_vehicle\n",
    "        self.max_speed = max_speed\n",
    "        self.average_of_vehicle = average_of_vehicle\n",
    "        "
   ]
  },
  {
   "cell_type": "code",
   "execution_count": 28,
   "id": "face2d3b-bfc7-471e-a32e-ee3157416b2d",
   "metadata": {},
   "outputs": [],
   "source": [
    "class Car(Vehicle):\n",
    "    \n",
    "    \n",
    "    def seating_capacity(self,capacity):\n",
    "        \n",
    "        print(f\"The name of the vehicle {self.name_of_vehicle} and the seating capacity is {capacity}\")\n",
    "        "
   ]
  },
  {
   "cell_type": "code",
   "execution_count": 29,
   "id": "15b9ece4-766a-48d2-9970-c447daa20246",
   "metadata": {},
   "outputs": [],
   "source": [
    "inst1 = Car(\"Maruti\",220,17)"
   ]
  },
  {
   "cell_type": "code",
   "execution_count": 30,
   "id": "2e16b246-e5f1-42b5-97a8-dd4958ad2448",
   "metadata": {},
   "outputs": [
    {
     "name": "stdout",
     "output_type": "stream",
     "text": [
      "The name of the vehicle Maruti and the seating capacity is 5\n"
     ]
    }
   ],
   "source": [
    "inst1.seating_capacity(5)"
   ]
  },
  {
   "cell_type": "code",
   "execution_count": 60,
   "id": "6c8990b7-585d-4bc3-9082-963427ba86a6",
   "metadata": {},
   "outputs": [],
   "source": [
    "class Father:\n",
    "    \n",
    "    def __init__(self,f_name = \"Max\"):\n",
    "        self.f_name = f_name \n",
    "        \n"
   ]
  },
  {
   "cell_type": "code",
   "execution_count": 61,
   "id": "e12b4b06-16bc-4aca-b020-a276789f9032",
   "metadata": {},
   "outputs": [],
   "source": [
    "class Mother:\n",
    "    \n",
    "    def __init__(self,m_name = \"Juli\"):\n",
    "        self.m_name = m_name"
   ]
  },
  {
   "cell_type": "code",
   "execution_count": 62,
   "id": "90288d9b-8785-4094-81b2-6e8f82d39780",
   "metadata": {},
   "outputs": [],
   "source": [
    "class Child():\n",
    "    \n",
    "    def __init__(self):\n",
    "        Father.__init__(self)\n",
    "        Mother.__init__(self)\n",
    "       \n",
    "    def Parental_details(self,name):\n",
    "        print(f\" My name is {name}, my dad is {self.f_name} and my mom is {self.m_name}\")"
   ]
  },
  {
   "cell_type": "code",
   "execution_count": 78,
   "id": "fdaece17-7c3f-4c5e-8883-1914021ade72",
   "metadata": {},
   "outputs": [],
   "source": [
    "inst1 = Father()\n"
   ]
  },
  {
   "cell_type": "code",
   "execution_count": 64,
   "id": "020c5da8-0365-43a4-b84e-89cd4b34102c",
   "metadata": {},
   "outputs": [],
   "source": [
    "inst2 = Mother()"
   ]
  },
  {
   "cell_type": "code",
   "execution_count": 65,
   "id": "a86dc800-c064-40d7-8073-d7446bfc8fd9",
   "metadata": {},
   "outputs": [],
   "source": [
    "inst3 = Child()"
   ]
  },
  {
   "cell_type": "code",
   "execution_count": 79,
   "id": "3925e175-17ff-4f57-a184-50827bd5248d",
   "metadata": {},
   "outputs": [],
   "source": [
    "inst3.f_name = \"Xam\""
   ]
  },
  {
   "cell_type": "code",
   "execution_count": 80,
   "id": "c1697627-4f10-45c2-86a6-8485259495f3",
   "metadata": {},
   "outputs": [
    {
     "data": {
      "text/plain": [
       "'Xam'"
      ]
     },
     "execution_count": 80,
     "metadata": {},
     "output_type": "execute_result"
    }
   ],
   "source": [
    "inst3.f_name "
   ]
  },
  {
   "cell_type": "code",
   "execution_count": 81,
   "id": "f16e36d6-8941-445f-91ed-685e9bf64976",
   "metadata": {},
   "outputs": [
    {
     "name": "stdout",
     "output_type": "stream",
     "text": [
      " My name is Rahul, my dad is Xam and my mom is Juli\n"
     ]
    }
   ],
   "source": [
    "inst3.Parental_details(\"Rahul\")"
   ]
  },
  {
   "cell_type": "markdown",
   "id": "379b3ed4-2c5b-4441-9fd8-62dc889702fb",
   "metadata": {},
   "source": [
    "Getter: A method that allows you to access an attribute in a given class. \n",
    "Setter: A method that allows you to set or mutate the value of an attribute in a class."
   ]
  },
  {
   "cell_type": "code",
   "execution_count": 82,
   "id": "019293d2-454d-4b0a-b8b3-08b6931e0a23",
   "metadata": {},
   "outputs": [],
   "source": [
    "\n",
    "class Label:\n",
    "    def __init__(self, text, font):\n",
    "        self.__text = text\n",
    "        self.__font = font\n",
    "\n",
    "    def get_text(self):\n",
    "        return self.__text\n",
    "\n",
    "    def set_text(self, value):\n",
    "        self.__text = value\n",
    "\n",
    "    def get_font(self):\n",
    "        return self.__font\n",
    "\n",
    "    def set_font(self, value):\n",
    "        self.__font = value"
   ]
  },
  {
   "cell_type": "code",
   "execution_count": 83,
   "id": "05de3f3b-1424-473d-9d32-9ee6ea2f2bcf",
   "metadata": {},
   "outputs": [],
   "source": [
    "inst4 = Label(\"Helopono\",\"Caliber\")"
   ]
  },
  {
   "cell_type": "code",
   "execution_count": 77,
   "id": "c1bcd8e9-572d-4250-ae27-942c61605da0",
   "metadata": {},
   "outputs": [
    {
     "data": {
      "text/plain": [
       "'Caliber'"
      ]
     },
     "execution_count": 77,
     "metadata": {},
     "output_type": "execute_result"
    }
   ],
   "source": [
    "inst4.get_font()"
   ]
  },
  {
   "cell_type": "markdown",
   "id": "f0959632-48ed-4464-af01-29e2edb87ba4",
   "metadata": {},
   "source": [
    "Method overriding is a feature of object-oriented programming languages where the subclass or child class can provide the program with specific characteristics or a specific implementation process of data provided that are already defined in the parent class or superclass."
   ]
  },
  {
   "cell_type": "code",
   "execution_count": 88,
   "id": "2d43c860-227b-4711-8977-9b769aadb6c7",
   "metadata": {},
   "outputs": [],
   "source": [
    "class Vehicle:\n",
    "    \n",
    "    def __init__(self, name_of_vehicle= \"Maruti\"):\n",
    "        self.name_of_vehicle = name_of_vehicle\n",
    "        "
   ]
  },
  {
   "cell_type": "code",
   "execution_count": 95,
   "id": "3c77f323-0e21-45ef-bcc1-ac330ff1b9af",
   "metadata": {},
   "outputs": [],
   "source": [
    "class Car(Vehicle):\n",
    "    \n",
    "    \n",
    "    \n",
    "    def seating_capacity(self):\n",
    "        \n",
    "        print(f\"The name of the vehicle {self.name_of_vehicle}\")\n",
    "        "
   ]
  },
  {
   "cell_type": "code",
   "execution_count": 90,
   "id": "18ba26b3-0f78-499f-8030-dd3681fb17ed",
   "metadata": {},
   "outputs": [],
   "source": [
    "car2 = Vehicle()"
   ]
  },
  {
   "cell_type": "code",
   "execution_count": 91,
   "id": "b0831f37-711f-4b0e-a485-9d090326bbd9",
   "metadata": {},
   "outputs": [
    {
     "data": {
      "text/plain": [
       "'Maruti'"
      ]
     },
     "execution_count": 91,
     "metadata": {},
     "output_type": "execute_result"
    }
   ],
   "source": [
    "car2.name_of_vehicle"
   ]
  },
  {
   "cell_type": "code",
   "execution_count": 97,
   "id": "3dde682a-b90b-47fd-8de0-aa90fd85785c",
   "metadata": {},
   "outputs": [],
   "source": [
    "car23 = Car()"
   ]
  },
  {
   "cell_type": "code",
   "execution_count": 98,
   "id": "aceda915-af65-4932-8599-4183e4c82b22",
   "metadata": {},
   "outputs": [],
   "source": [
    "car3 = Car(\"Suzuki\")"
   ]
  },
  {
   "cell_type": "code",
   "execution_count": 99,
   "id": "2ac890a6-bcf6-419b-b437-2e312c0e20c4",
   "metadata": {},
   "outputs": [
    {
     "data": {
      "text/plain": [
       "'Suzuki'"
      ]
     },
     "execution_count": 99,
     "metadata": {},
     "output_type": "execute_result"
    }
   ],
   "source": [
    "car3.name_of_vehicle"
   ]
  },
  {
   "cell_type": "code",
   "execution_count": null,
   "id": "99c53483-ee72-49b7-9e11-5334f8f49af0",
   "metadata": {},
   "outputs": [],
   "source": []
  }
 ],
 "metadata": {
  "kernelspec": {
   "display_name": "Python 3 (ipykernel)",
   "language": "python",
   "name": "python3"
  },
  "language_info": {
   "codemirror_mode": {
    "name": "ipython",
    "version": 3
   },
   "file_extension": ".py",
   "mimetype": "text/x-python",
   "name": "python",
   "nbconvert_exporter": "python",
   "pygments_lexer": "ipython3",
   "version": "3.10.8"
  }
 },
 "nbformat": 4,
 "nbformat_minor": 5
}
