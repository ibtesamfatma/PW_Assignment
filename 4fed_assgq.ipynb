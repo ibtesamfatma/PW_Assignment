{
 "cells": [
  {
   "cell_type": "code",
   "execution_count": 1,
   "id": "84b1ae9e-2a57-461f-a90d-34dfd993d788",
   "metadata": {},
   "outputs": [],
   "source": [
    "t = [('Sachin Tendulkar', 34357), ('Ricky Ponting', 27483), ('Jack Kallis', 25534), ('Virat Kohli', 24936)]"
   ]
  },
  {
   "cell_type": "code",
   "execution_count": 6,
   "id": "40bd5c7d-99b8-4a79-be72-1f5c1fcf93c7",
   "metadata": {},
   "outputs": [],
   "source": [
    "t.sort(key = lambda a:a[1])"
   ]
  },
  {
   "cell_type": "code",
   "execution_count": 7,
   "id": "3f40645b-d71e-4a77-8dd4-4aa52ac31dae",
   "metadata": {},
   "outputs": [
    {
     "data": {
      "text/plain": [
       "[('Virat Kohli', 24936),\n",
       " ('Jack Kallis', 25534),\n",
       " ('Ricky Ponting', 27483),\n",
       " ('Sachin Tendulkar', 34357)]"
      ]
     },
     "execution_count": 7,
     "metadata": {},
     "output_type": "execute_result"
    }
   ],
   "source": [
    "t"
   ]
  },
  {
   "cell_type": "code",
   "execution_count": 8,
   "id": "72cdc3f3-9ae4-4531-8398-470a856251d1",
   "metadata": {},
   "outputs": [],
   "source": [
    "l = [1, 2, 3, 4, 5, 6, 7, 8, 9, 10]"
   ]
  },
  {
   "cell_type": "code",
   "execution_count": 9,
   "id": "c194762b-b2c4-4143-b4ef-01de4eeab915",
   "metadata": {},
   "outputs": [
    {
     "data": {
      "text/plain": [
       "[1, 4, 9, 16, 25, 36, 49, 64, 81, 100]"
      ]
     },
     "execution_count": 9,
     "metadata": {},
     "output_type": "execute_result"
    }
   ],
   "source": [
    "list(map(lambda x:x**2,l))"
   ]
  },
  {
   "cell_type": "code",
   "execution_count": 11,
   "id": "a57dbbe7-1455-4f16-9752-ce291a2204e4",
   "metadata": {},
   "outputs": [
    {
     "data": {
      "text/plain": [
       "('1', '2', '3', '4', '5', '6', '7', '8', '9', '10')"
      ]
     },
     "execution_count": 11,
     "metadata": {},
     "output_type": "execute_result"
    }
   ],
   "source": [
    "tuple(map(lambda x:str(x),l))"
   ]
  },
  {
   "cell_type": "code",
   "execution_count": 12,
   "id": "d78f2ee3-3a9a-4188-a21d-2461a949c4ba",
   "metadata": {},
   "outputs": [],
   "source": [
    "lst = range(1,25)"
   ]
  },
  {
   "cell_type": "code",
   "execution_count": 15,
   "id": "1f45d725-8e23-4699-af59-a1cb019e0469",
   "metadata": {},
   "outputs": [],
   "source": [
    "from functools import reduce"
   ]
  },
  {
   "cell_type": "code",
   "execution_count": 16,
   "id": "10d8537c-850d-441d-af30-7cfd6645745a",
   "metadata": {},
   "outputs": [
    {
     "data": {
      "text/plain": [
       "620448401733239439360000"
      ]
     },
     "execution_count": 16,
     "metadata": {},
     "output_type": "execute_result"
    }
   ],
   "source": [
    "reduce(lambda x,y :x*y ,lst)"
   ]
  },
  {
   "cell_type": "code",
   "execution_count": 17,
   "id": "217f76b7-2dff-4b3c-9957-0d23e029ccc9",
   "metadata": {},
   "outputs": [],
   "source": [
    "l2 = [2, 3, 6, 9, 27, 60, 90, 120, 55, 46]"
   ]
  },
  {
   "cell_type": "code",
   "execution_count": 18,
   "id": "7570aefe-2baa-407d-9e9a-55b8f11e845f",
   "metadata": {},
   "outputs": [
    {
     "data": {
      "text/plain": [
       "[2, 3, 6, 9, 27, 60, 90, 120, 46]"
      ]
     },
     "execution_count": 18,
     "metadata": {},
     "output_type": "execute_result"
    }
   ],
   "source": [
    "list(filter(lambda x: x%2 ==0 or x%3 ==0 ,l2))"
   ]
  },
  {
   "cell_type": "code",
   "execution_count": 43,
   "id": "2ebf272d-b439-43a3-9527-4592c03c3d00",
   "metadata": {},
   "outputs": [],
   "source": [
    "strings = ['python', 'php', 'aba', 'radar', 'level']"
   ]
  },
  {
   "cell_type": "code",
   "execution_count": 46,
   "id": "3db9b400-3115-4563-85f0-1b8116d11dee",
   "metadata": {},
   "outputs": [],
   "source": [
    "def palindrome(a):\n",
    "\n",
    "    b = list(a)\n",
    "    c = ''.join(b[::-1])\n",
    "\n",
    "    if c == a:\n",
    "        return a\n",
    "    else:\n",
    "        pass   \n",
    "\n",
    "                 \n",
    "                 \n",
    "    "
   ]
  },
  {
   "cell_type": "code",
   "execution_count": 48,
   "id": "09d4667e-792f-49bc-937b-a28da7d29765",
   "metadata": {},
   "outputs": [
    {
     "data": {
      "text/plain": [
       "['php', 'aba', 'radar', 'level']"
      ]
     },
     "execution_count": 48,
     "metadata": {},
     "output_type": "execute_result"
    }
   ],
   "source": [
    "list(filter(palindrome,strings))\n",
    "                "
   ]
  },
  {
   "cell_type": "code",
   "execution_count": null,
   "id": "78918ad7-772f-407a-9aff-69123ce93806",
   "metadata": {},
   "outputs": [],
   "source": []
  },
  {
   "cell_type": "code",
   "execution_count": null,
   "id": "90d5bb52-7125-4592-9911-d42c96982cbf",
   "metadata": {},
   "outputs": [],
   "source": []
  },
  {
   "cell_type": "code",
   "execution_count": 36,
   "id": "070bc55f-98a1-4c98-9200-f12d086cf8ee",
   "metadata": {},
   "outputs": [],
   "source": []
  },
  {
   "cell_type": "code",
   "execution_count": 42,
   "id": "b5a8e1a4-65ed-4adb-9e1e-85b2458d9191",
   "metadata": {},
   "outputs": [
    {
     "data": {
      "text/plain": [
       "'nohtyp'"
      ]
     },
     "execution_count": 42,
     "metadata": {},
     "output_type": "execute_result"
    }
   ],
   "source": []
  },
  {
   "cell_type": "code",
   "execution_count": null,
   "id": "f4ed15dd-c11e-4066-aa22-805d17e7a9bc",
   "metadata": {},
   "outputs": [],
   "source": []
  }
 ],
 "metadata": {
  "kernelspec": {
   "display_name": "Python 3 (ipykernel)",
   "language": "python",
   "name": "python3"
  },
  "language_info": {
   "codemirror_mode": {
    "name": "ipython",
    "version": 3
   },
   "file_extension": ".py",
   "mimetype": "text/x-python",
   "name": "python",
   "nbconvert_exporter": "python",
   "pygments_lexer": "ipython3",
   "version": "3.10.8"
  }
 },
 "nbformat": 4,
 "nbformat_minor": 5
}
