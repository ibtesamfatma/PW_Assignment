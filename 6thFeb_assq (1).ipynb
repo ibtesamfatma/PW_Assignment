{
 "cells": [
  {
   "cell_type": "code",
   "execution_count": 1,
   "id": "698a6f67-5b4a-4878-a517-721005aa5bf3",
   "metadata": {},
   "outputs": [],
   "source": [
    "list1 = [1,2,3,4, [44,55,66, True], False, (34,56,78,89,34), {1,2,3,3,2,1}, {1:34, \"key2\": [55, 67, 78, 89], 4: (45,\n",
    "22, 61, 34)}, [56, 'data science'], 'Machine Learning']"
   ]
  },
  {
   "cell_type": "code",
   "execution_count": 2,
   "id": "05ce1f27-647b-4070-b97c-dd571f897d20",
   "metadata": {},
   "outputs": [
    {
     "data": {
      "text/plain": [
       "[1,\n",
       " 2,\n",
       " 3,\n",
       " 4,\n",
       " [44, 55, 66, True],\n",
       " False,\n",
       " (34, 56, 78, 89, 34),\n",
       " {1, 2, 3},\n",
       " {1: 34, 'key2': [55, 67, 78, 89], 4: (45, 22, 61, 34)},\n",
       " [56, 'data science'],\n",
       " 'Machine Learning']"
      ]
     },
     "execution_count": 2,
     "metadata": {},
     "output_type": "execute_result"
    }
   ],
   "source": [
    "list1"
   ]
  },
  {
   "cell_type": "code",
   "execution_count": 24,
   "id": "cb039069-d4a9-42c5-84d9-1ae04842e6bd",
   "metadata": {},
   "outputs": [],
   "source": [
    "\n",
    "def numreic_values(a):\n",
    "    lst = []\n",
    "    for elem in a:\n",
    "        if isinstance(elem, (list, tuple)):\n",
    "            lst += [num for num in elem if isinstance(num,  (int, float))]\n",
    "            \n",
    "        elif isinstance(elem, dict):\n",
    "            lst += [num for num in elem.keys() if isinstance(num, (int, float))]\n",
    "            lst += [num for val in elem.values() for num in val if isinstance(num, (int, float))] \n",
    "            \n",
    "        elif isinstance(elem, (int, float)):\n",
    "            lst.append(elem)\n",
    "    product = 1\n",
    "    \n",
    "    for num in lst:\n",
    "        product *= num\n",
    "    return product\n",
    "        \n",
    "        \n",
    "    "
   ]
  },
  {
   "cell_type": "code",
   "execution_count": null,
   "id": "c6173baf-6290-4d41-975d-0e105af70b32",
   "metadata": {},
   "outputs": [],
   "source": [
    "\n"
   ]
  },
  {
   "cell_type": "code",
   "execution_count": 25,
   "id": "c9b45f42-fafa-416f-b9bf-ba0cfeec9ca1",
   "metadata": {},
   "outputs": [],
   "source": [
    "a = [1,2,3,4, [44,55,66, True], False, {1,2,3,3,2,1},[56, 'data science'], 'Machine Learning', {1:34, \"key2\": [55, 67, 78, 89], 4: (45,\n",
    "22, 61, 34)}]"
   ]
  },
  {
   "cell_type": "code",
   "execution_count": 26,
   "id": "60ca2945-985f-46ba-8552-064d11f1ce23",
   "metadata": {},
   "outputs": [
    {
     "ename": "TypeError",
     "evalue": "'int' object is not iterable",
     "output_type": "error",
     "traceback": [
      "\u001b[0;31m---------------------------------------------------------------------------\u001b[0m",
      "\u001b[0;31mTypeError\u001b[0m                                 Traceback (most recent call last)",
      "Cell \u001b[0;32mIn[26], line 1\u001b[0m\n\u001b[0;32m----> 1\u001b[0m \u001b[43mnumreic_values\u001b[49m\u001b[43m(\u001b[49m\u001b[43ma\u001b[49m\u001b[43m)\u001b[49m\n",
      "Cell \u001b[0;32mIn[24], line 9\u001b[0m, in \u001b[0;36mnumreic_values\u001b[0;34m(a)\u001b[0m\n\u001b[1;32m      7\u001b[0m \u001b[38;5;28;01melif\u001b[39;00m \u001b[38;5;28misinstance\u001b[39m(elem, \u001b[38;5;28mdict\u001b[39m):\n\u001b[1;32m      8\u001b[0m     lst \u001b[38;5;241m+\u001b[39m\u001b[38;5;241m=\u001b[39m [num \u001b[38;5;28;01mfor\u001b[39;00m num \u001b[38;5;129;01min\u001b[39;00m elem\u001b[38;5;241m.\u001b[39mkeys() \u001b[38;5;28;01mif\u001b[39;00m \u001b[38;5;28misinstance\u001b[39m(num, (\u001b[38;5;28mint\u001b[39m, \u001b[38;5;28mfloat\u001b[39m))]\n\u001b[0;32m----> 9\u001b[0m     lst \u001b[38;5;241m+\u001b[39m\u001b[38;5;241m=\u001b[39m [num \u001b[38;5;28;01mfor\u001b[39;00m val \u001b[38;5;129;01min\u001b[39;00m elem\u001b[38;5;241m.\u001b[39mvalues() \u001b[38;5;28;01mfor\u001b[39;00m num \u001b[38;5;129;01min\u001b[39;00m val \u001b[38;5;28;01mif\u001b[39;00m \u001b[38;5;28misinstance\u001b[39m(num, (\u001b[38;5;28mint\u001b[39m, \u001b[38;5;28mfloat\u001b[39m))] \n\u001b[1;32m     11\u001b[0m \u001b[38;5;28;01melif\u001b[39;00m \u001b[38;5;28misinstance\u001b[39m(elem, (\u001b[38;5;28mint\u001b[39m, \u001b[38;5;28mfloat\u001b[39m)):\n\u001b[1;32m     12\u001b[0m     lst\u001b[38;5;241m.\u001b[39mappend(elem)\n",
      "Cell \u001b[0;32mIn[24], line 9\u001b[0m, in \u001b[0;36m<listcomp>\u001b[0;34m(.0)\u001b[0m\n\u001b[1;32m      7\u001b[0m \u001b[38;5;28;01melif\u001b[39;00m \u001b[38;5;28misinstance\u001b[39m(elem, \u001b[38;5;28mdict\u001b[39m):\n\u001b[1;32m      8\u001b[0m     lst \u001b[38;5;241m+\u001b[39m\u001b[38;5;241m=\u001b[39m [num \u001b[38;5;28;01mfor\u001b[39;00m num \u001b[38;5;129;01min\u001b[39;00m elem\u001b[38;5;241m.\u001b[39mkeys() \u001b[38;5;28;01mif\u001b[39;00m \u001b[38;5;28misinstance\u001b[39m(num, (\u001b[38;5;28mint\u001b[39m, \u001b[38;5;28mfloat\u001b[39m))]\n\u001b[0;32m----> 9\u001b[0m     lst \u001b[38;5;241m+\u001b[39m\u001b[38;5;241m=\u001b[39m [num \u001b[38;5;28;01mfor\u001b[39;00m val \u001b[38;5;129;01min\u001b[39;00m elem\u001b[38;5;241m.\u001b[39mvalues() \u001b[38;5;28;01mfor\u001b[39;00m num \u001b[38;5;129;01min\u001b[39;00m val \u001b[38;5;28;01mif\u001b[39;00m \u001b[38;5;28misinstance\u001b[39m(num, (\u001b[38;5;28mint\u001b[39m, \u001b[38;5;28mfloat\u001b[39m))] \n\u001b[1;32m     11\u001b[0m \u001b[38;5;28;01melif\u001b[39;00m \u001b[38;5;28misinstance\u001b[39m(elem, (\u001b[38;5;28mint\u001b[39m, \u001b[38;5;28mfloat\u001b[39m)):\n\u001b[1;32m     12\u001b[0m     lst\u001b[38;5;241m.\u001b[39mappend(elem)\n",
      "\u001b[0;31mTypeError\u001b[0m: 'int' object is not iterable"
     ]
    }
   ],
   "source": [
    "numreic_values(a)"
   ]
  },
  {
   "cell_type": "code",
   "execution_count": 27,
   "id": "b01604a5-09b1-493d-b328-100d14d59562",
   "metadata": {},
   "outputs": [
    {
     "name": "stdout",
     "output_type": "stream",
     "text": [
      "Encrypted message: $dzmg$gl$yvxlnv$z$zgz$xrvmgrhg.\n"
     ]
    }
   ],
   "source": [
    "def encrypt_message(message):\n",
    "    encrypted = \"\"\n",
    "    for char in message:\n",
    "        if char.isalpha():\n",
    "            encrypted += chr(219 - ord(char))\n",
    "        elif char == ' ':\n",
    "            encrypted += '$'\n",
    "        else:\n",
    "            encrypted += char\n",
    "    return encrypted\n",
    "\n",
    "message = \"I want to become a Data Scientist.\"\n",
    "encrypted_message = encrypt_message(message)\n",
    "print(\"Encrypted message:\", encrypted_message)\n",
    "   "
   ]
  },
  {
   "cell_type": "code",
   "execution_count": 28,
   "id": "b9b9c429-b63c-4309-bb94-17de767e623d",
   "metadata": {},
   "outputs": [],
   "source": [
    "\n"
   ]
  },
  {
   "cell_type": "code",
   "execution_count": 29,
   "id": "7e82a632-a3cd-4e41-9ffe-94280e8059c5",
   "metadata": {},
   "outputs": [
    {
     "data": {
      "text/plain": [
       "'\\x92$dzmg$gl$yvxlnv$z$\\x97zgz$\\x88xrvmgrhg.'"
      ]
     },
     "execution_count": 29,
     "metadata": {},
     "output_type": "execute_result"
    }
   ],
   "source": []
  },
  {
   "cell_type": "code",
   "execution_count": 11,
   "id": "ea2a2ebb-e81d-45cc-90a6-84ca58438c6d",
   "metadata": {},
   "outputs": [],
   "source": [
    "# How to raise query support for both questions\n"
   ]
  },
  {
   "cell_type": "code",
   "execution_count": 39,
   "id": "eb6ef4a3-87b9-4d80-b76d-2d9d1e64b64e",
   "metadata": {},
   "outputs": [
    {
     "data": {
      "text/plain": [
       "'\\x9a'"
      ]
     },
     "execution_count": 39,
     "metadata": {},
     "output_type": "execute_result"
    }
   ],
   "source": [
    "chr(219 - ord('A'))"
   ]
  },
  {
   "cell_type": "code",
   "execution_count": 40,
   "id": "722c162e-f4fd-43e7-ad20-8d8a46d050e4",
   "metadata": {},
   "outputs": [
    {
     "data": {
      "text/plain": [
       "'\\x81'"
      ]
     },
     "execution_count": 40,
     "metadata": {},
     "output_type": "execute_result"
    }
   ],
   "source": [
    "chr(219 - ord('Z'))"
   ]
  },
  {
   "cell_type": "code",
   "execution_count": null,
   "id": "c68f7e0c-7d8b-4893-914c-8894446a0474",
   "metadata": {},
   "outputs": [],
   "source": []
  }
 ],
 "metadata": {
  "kernelspec": {
   "display_name": "Python 3 (ipykernel)",
   "language": "python",
   "name": "python3"
  },
  "language_info": {
   "codemirror_mode": {
    "name": "ipython",
    "version": 3
   },
   "file_extension": ".py",
   "mimetype": "text/x-python",
   "name": "python",
   "nbconvert_exporter": "python",
   "pygments_lexer": "ipython3",
   "version": "3.10.8"
  }
 },
 "nbformat": 4,
 "nbformat_minor": 5
}
