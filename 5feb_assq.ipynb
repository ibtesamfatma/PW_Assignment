{
 "cells": [
  {
   "cell_type": "code",
   "execution_count": 2,
   "id": "bd7bf399-872e-4a0d-bb91-fd59243870e9",
   "metadata": {},
   "outputs": [],
   "source": [
    "#Animal is a class\n",
    "class Animal():\n",
    "    def __init__(self,kind,colour):\n",
    "        self.kind= kind\n",
    "        self.colour = colour\n",
    "        \n",
    "        \n",
    "    \n",
    "    "
   ]
  },
  {
   "cell_type": "code",
   "execution_count": null,
   "id": "0f905e74-61b7-41cb-846e-67a54d03eba0",
   "metadata": {},
   "outputs": [],
   "source": [
    "# Hagrid is a Object\n",
    "Hagrid = Animal(\"Dog\",\"Golden\")"
   ]
  },
  {
   "cell_type": "code",
   "execution_count": null,
   "id": "222fd4eb-84c0-4a13-8edc-8295ed8d484e",
   "metadata": {},
   "outputs": [],
   "source": [
    "Hagrid.colour"
   ]
  },
  {
   "cell_type": "markdown",
   "id": "553e222e-e958-40f5-8dec-23e9dcdf1e18",
   "metadata": {},
   "source": [
    "## Four Pillar of oops\n",
    "Abstraction, Encapsulation, Inheritance, and Polymorphism\n"
   ]
  },
  {
   "cell_type": "markdown",
   "id": "fd582d2d-c1cd-45fa-ba8b-9453553838eb",
   "metadata": {},
   "source": [
    "__init__ method allows class to intialize objects attributes"
   ]
  },
  {
   "cell_type": "code",
   "execution_count": 5,
   "id": "fa16fda4-bc77-42de-826e-45af90c29ec5",
   "metadata": {},
   "outputs": [],
   "source": [
    "class Animal():\n",
    "    def __init__(self,kind,colour):\n",
    "        self.kind= kind\n",
    "        self.colour = colour"
   ]
  },
  {
   "cell_type": "code",
   "execution_count": 6,
   "id": "c9d0773c-d492-45c2-9a01-f7b231231441",
   "metadata": {},
   "outputs": [],
   "source": [
    "# Like in above example kind and colour are Object's attributes. \n",
    "# __init__ will holds the object attributes and connect it with class"
   ]
  },
  {
   "cell_type": "code",
   "execution_count": 7,
   "id": "2d2c1da9-763e-4f4f-9ff6-aa05d4170bd5",
   "metadata": {},
   "outputs": [],
   "source": [
    "# Python uses the self parameter to refer to instance attributes\n",
    "# and methods of the class"
   ]
  },
  {
   "cell_type": "code",
   "execution_count": null,
   "id": "055d3675-edd5-4caf-a5a7-63f991bbe44c",
   "metadata": {},
   "outputs": [],
   "source": [
    "# When a class is derived from each class is called inhertience \n"
   ]
  }
 ],
 "metadata": {
  "kernelspec": {
   "display_name": "Python 3 (ipykernel)",
   "language": "python",
   "name": "python3"
  },
  "language_info": {
   "codemirror_mode": {
    "name": "ipython",
    "version": 3
   },
   "file_extension": ".py",
   "mimetype": "text/x-python",
   "name": "python",
   "nbconvert_exporter": "python",
   "pygments_lexer": "ipython3",
   "version": "3.10.8"
  }
 },
 "nbformat": 4,
 "nbformat_minor": 5
}
