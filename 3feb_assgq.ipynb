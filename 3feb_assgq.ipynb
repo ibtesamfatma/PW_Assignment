{
 "cells": [
  {
   "cell_type": "code",
   "execution_count": 1,
   "id": "0c10bc08-a4a2-4315-8efa-3c33aa7f78bc",
   "metadata": {},
   "outputs": [],
   "source": [
    "# def is used to create func"
   ]
  },
  {
   "cell_type": "code",
   "execution_count": 2,
   "id": "1512710d-cca0-4153-b1a9-408d3439ac35",
   "metadata": {},
   "outputs": [],
   "source": [
    "def odd_num():\n",
    "    lst= []\n",
    "    num = range(1,25)\n",
    "    for a in num:\n",
    "        if a%2 !=0 :\n",
    "            lst.append(a)\n",
    "            \n",
    "    return lst"
   ]
  },
  {
   "cell_type": "code",
   "execution_count": 3,
   "id": "95e16177-1e70-4abf-aebe-64b8731a3ca3",
   "metadata": {},
   "outputs": [
    {
     "data": {
      "text/plain": [
       "[1, 3, 5, 7, 9, 11, 13, 15, 17, 19, 21, 23]"
      ]
     },
     "execution_count": 3,
     "metadata": {},
     "output_type": "execute_result"
    }
   ],
   "source": [
    "odd_num()"
   ]
  },
  {
   "cell_type": "code",
   "execution_count": 4,
   "id": "e4276e6e-d271-4bb8-8034-16f4d9b332b9",
   "metadata": {},
   "outputs": [],
   "source": [
    "# * and ** are used for mupltiple arguments \n"
   ]
  },
  {
   "cell_type": "code",
   "execution_count": 5,
   "id": "cfd0c30c-bd08-4cad-b8c5-3bb0e10b553f",
   "metadata": {},
   "outputs": [],
   "source": [
    "def add(*args):\n",
    "    return sum(args)"
   ]
  },
  {
   "cell_type": "code",
   "execution_count": 6,
   "id": "f2832f1e-0d52-4dec-ab67-0bd458e35f70",
   "metadata": {},
   "outputs": [
    {
     "data": {
      "text/plain": [
       "14"
      ]
     },
     "execution_count": 6,
     "metadata": {},
     "output_type": "execute_result"
    }
   ],
   "source": [
    "add(2,3,4,5)"
   ]
  },
  {
   "cell_type": "code",
   "execution_count": 7,
   "id": "7228e759-a387-4ea6-a51b-3e5eccdccb81",
   "metadata": {},
   "outputs": [],
   "source": [
    "def add_dict(**kwargs):\n",
    "    return kwargs"
   ]
  },
  {
   "cell_type": "code",
   "execution_count": 8,
   "id": "e4318f5f-06cf-454c-86fe-4891c700522d",
   "metadata": {},
   "outputs": [
    {
     "data": {
      "text/plain": [
       "{'a': [1, 2, 3], 'b': 34, 'c': 'ibz'}"
      ]
     },
     "execution_count": 8,
     "metadata": {},
     "output_type": "execute_result"
    }
   ],
   "source": [
    "add_dict(a = [1,2,3], b= 34, c=\"ibz\")"
   ]
  },
  {
   "cell_type": "code",
   "execution_count": 9,
   "id": "e4206baa-5444-4fb0-b5ab-8282904b4f50",
   "metadata": {},
   "outputs": [],
   "source": [
    "# The __iter__() method is used to initialize the iterator object and returns the iterator object itself.\n",
    "# The __next__() method returns the next value from the iterator, or raises a StopIteration exception if there are no more items in the sequence.\n",
    "# To create an iterator in Python, you can use the built-in iter() function on any iterable object, such as a list, tuple, or string."
   ]
  },
  {
   "cell_type": "code",
   "execution_count": 10,
   "id": "763b49ce-455f-4ec0-bdd2-59916f8b9a4d",
   "metadata": {},
   "outputs": [],
   "source": [
    "my_list = [2, 4, 6, 8, 10, 12, 14,16, 18, 20]\n",
    "my_iterator = iter(my_list)\n"
   ]
  },
  {
   "cell_type": "code",
   "execution_count": 11,
   "id": "6b02ac69-88ee-4cca-bee3-4ad7229ba701",
   "metadata": {},
   "outputs": [
    {
     "data": {
      "text/plain": [
       "<list_iterator at 0x7f84406ce4d0>"
      ]
     },
     "execution_count": 11,
     "metadata": {},
     "output_type": "execute_result"
    }
   ],
   "source": [
    "my_iterator"
   ]
  },
  {
   "cell_type": "code",
   "execution_count": 12,
   "id": "11e00e15-8a73-492e-8cb6-f707f85bbe56",
   "metadata": {},
   "outputs": [
    {
     "name": "stdout",
     "output_type": "stream",
     "text": [
      "2\n"
     ]
    }
   ],
   "source": [
    "print(next(my_iterator))"
   ]
  },
  {
   "cell_type": "code",
   "execution_count": 13,
   "id": "978193f9-5602-44e3-a532-5e55da4ecc67",
   "metadata": {},
   "outputs": [
    {
     "name": "stdout",
     "output_type": "stream",
     "text": [
      "4\n"
     ]
    }
   ],
   "source": [
    "print(next(my_iterator))"
   ]
  },
  {
   "cell_type": "code",
   "execution_count": 14,
   "id": "3c7783ec-7833-4335-9833-2f2bf885f83c",
   "metadata": {},
   "outputs": [
    {
     "name": "stdout",
     "output_type": "stream",
     "text": [
      "6\n"
     ]
    }
   ],
   "source": [
    "print(next(my_iterator))"
   ]
  },
  {
   "cell_type": "code",
   "execution_count": 15,
   "id": "aaa7c711-9121-4dee-8a86-6b304c0dd3e9",
   "metadata": {},
   "outputs": [
    {
     "name": "stdout",
     "output_type": "stream",
     "text": [
      "8\n"
     ]
    }
   ],
   "source": [
    "print(next(my_iterator))"
   ]
  },
  {
   "cell_type": "code",
   "execution_count": 16,
   "id": "5e9f54d0-e37e-4d6b-ba5f-63a7843e479c",
   "metadata": {},
   "outputs": [
    {
     "name": "stdout",
     "output_type": "stream",
     "text": [
      "10\n"
     ]
    }
   ],
   "source": [
    "print(next(my_iterator))"
   ]
  },
  {
   "cell_type": "code",
   "execution_count": 17,
   "id": "ff9f2f5f-a4d0-4b43-a87d-6ce7b33faae1",
   "metadata": {},
   "outputs": [
    {
     "data": {
      "text/plain": [
       "[2, 4, 6, 8, 10]"
      ]
     },
     "execution_count": 17,
     "metadata": {},
     "output_type": "execute_result"
    }
   ],
   "source": [
    "# alternatively \n",
    "[my_list[x] for x in range(len(my_list))  if x <= 4]"
   ]
  },
  {
   "cell_type": "markdown",
   "id": "d78d126a-2505-44fa-984a-c7022d110345",
   "metadata": {},
   "source": [
    "Generator functions allow us to write a function that can send\n",
    "back a value and then later resume to pick up where it left off\n",
    "\n",
    "Allow us to generate a seq of values over time.\n",
    "\n",
    "Memory effecient "
   ]
  },
  {
   "cell_type": "code",
   "execution_count": 18,
   "id": "8aff2fbc-40e6-4967-92f1-305b2ccd1027",
   "metadata": {},
   "outputs": [],
   "source": [
    "def crete_cubes(n):\n",
    "    for x in range(n):\n",
    "         yield x**3\n"
   ]
  },
  {
   "cell_type": "code",
   "execution_count": 19,
   "id": "319932cb-d6ef-4cf5-a32c-d6ca355a826b",
   "metadata": {},
   "outputs": [
    {
     "data": {
      "text/plain": [
       "<generator object crete_cubes at 0x7f844402a420>"
      ]
     },
     "execution_count": 19,
     "metadata": {},
     "output_type": "execute_result"
    }
   ],
   "source": [
    "crete_cubes(10) "
   ]
  },
  {
   "cell_type": "code",
   "execution_count": null,
   "id": "3aa84379-fee9-4180-b967-5fecdda74d5c",
   "metadata": {},
   "outputs": [],
   "source": []
  },
  {
   "cell_type": "code",
   "execution_count": null,
   "id": "066f7764-c1be-436c-ba68-f274ed4f1c1a",
   "metadata": {},
   "outputs": [],
   "source": []
  },
  {
   "cell_type": "code",
   "execution_count": 20,
   "id": "f096ec64-5c5a-47d7-947a-b7202f30de4d",
   "metadata": {},
   "outputs": [],
   "source": [
    "def prime_num(n):\n",
    "    for x in range(1,n):\n",
    "        for a in range(2,x):\n",
    "                if x %a  == 0:\n",
    "                    break   \n",
    "        else:\n",
    "            yield x\n",
    "            \n",
    "                     \n",
    "                    \n",
    "    "
   ]
  },
  {
   "cell_type": "code",
   "execution_count": 21,
   "id": "1f3c6d9b-0539-4432-936b-0817e3e7e825",
   "metadata": {},
   "outputs": [],
   "source": [
    "p = prime_num(20)"
   ]
  },
  {
   "cell_type": "code",
   "execution_count": 22,
   "id": "7ee142ef-6655-43e9-9b55-435da4f0953f",
   "metadata": {},
   "outputs": [
    {
     "name": "stdout",
     "output_type": "stream",
     "text": [
      "1\n"
     ]
    }
   ],
   "source": [
    "print(next(p))"
   ]
  },
  {
   "cell_type": "code",
   "execution_count": 23,
   "id": "c5215155-8ed8-4d47-8416-544f92f1e604",
   "metadata": {},
   "outputs": [
    {
     "name": "stdout",
     "output_type": "stream",
     "text": [
      "2\n"
     ]
    }
   ],
   "source": [
    "print(next(p))"
   ]
  },
  {
   "cell_type": "code",
   "execution_count": 24,
   "id": "3ffea703-113f-4d75-8e3a-78748b7dbeca",
   "metadata": {},
   "outputs": [
    {
     "name": "stdout",
     "output_type": "stream",
     "text": [
      "3\n"
     ]
    }
   ],
   "source": [
    "print(next(p))"
   ]
  },
  {
   "cell_type": "code",
   "execution_count": 25,
   "id": "231263f6-fb76-4b81-9cc2-49c75886c862",
   "metadata": {},
   "outputs": [
    {
     "name": "stdout",
     "output_type": "stream",
     "text": [
      "5\n"
     ]
    }
   ],
   "source": [
    "print(next(p))"
   ]
  },
  {
   "cell_type": "code",
   "execution_count": 26,
   "id": "7232f87b-d0d0-4379-aa20-a2049078ae4e",
   "metadata": {},
   "outputs": [
    {
     "name": "stdout",
     "output_type": "stream",
     "text": [
      "7\n"
     ]
    }
   ],
   "source": [
    "print(next(p))"
   ]
  },
  {
   "cell_type": "code",
   "execution_count": 27,
   "id": "38e05c7e-f834-4260-ae99-771805485a50",
   "metadata": {},
   "outputs": [
    {
     "name": "stdout",
     "output_type": "stream",
     "text": [
      "11\n"
     ]
    }
   ],
   "source": [
    "print(next(p))"
   ]
  },
  {
   "cell_type": "code",
   "execution_count": 28,
   "id": "3ae0fa8d-df87-49ec-b331-b27b151d1209",
   "metadata": {},
   "outputs": [
    {
     "name": "stdout",
     "output_type": "stream",
     "text": [
      "13\n"
     ]
    }
   ],
   "source": [
    "print(next(p))"
   ]
  },
  {
   "cell_type": "code",
   "execution_count": 29,
   "id": "35aa1fb5-daaa-454f-bb32-cd98ff85b60e",
   "metadata": {},
   "outputs": [
    {
     "name": "stdout",
     "output_type": "stream",
     "text": [
      "17\n"
     ]
    }
   ],
   "source": [
    "print(next(p))"
   ]
  },
  {
   "cell_type": "code",
   "execution_count": 30,
   "id": "99e99caa-48b8-44c9-922e-d834c52e0ef1",
   "metadata": {},
   "outputs": [
    {
     "name": "stdout",
     "output_type": "stream",
     "text": [
      "19\n"
     ]
    }
   ],
   "source": [
    "print(next(p))"
   ]
  },
  {
   "cell_type": "code",
   "execution_count": 31,
   "id": "cd5b6980-46c6-4c62-b267-a444908952c4",
   "metadata": {},
   "outputs": [],
   "source": [
    "def fibanocio(n):\n",
    "    \n",
    "    a = 0\n",
    "    b = 1\n",
    "    c = n \n",
    "    while c > 0:\n",
    "        yield a\n",
    "        a,b = b , a+b\n",
    "        c -=1\n",
    "        "
   ]
  },
  {
   "cell_type": "code",
   "execution_count": 32,
   "id": "92b5a106-6995-4aa7-883e-893d6346f311",
   "metadata": {},
   "outputs": [
    {
     "name": "stdout",
     "output_type": "stream",
     "text": [
      "0\n",
      "1\n",
      "1\n",
      "2\n",
      "3\n",
      "5\n",
      "8\n",
      "13\n",
      "21\n",
      "34\n"
     ]
    }
   ],
   "source": [
    "for num in fibanocio(10):\n",
    "    print(num)"
   ]
  },
  {
   "cell_type": "code",
   "execution_count": 33,
   "id": "978cef54-cabb-45e5-a413-007458c01130",
   "metadata": {},
   "outputs": [
    {
     "data": {
      "text/plain": [
       "['p', 'w', 's', 'k', 'i', 'l', 'l', 's']"
      ]
     },
     "execution_count": 33,
     "metadata": {},
     "output_type": "execute_result"
    }
   ],
   "source": [
    "[x for x in \"pwskills\"]"
   ]
  },
  {
   "cell_type": "code",
   "execution_count": 45,
   "id": "80b49b92-0f50-4241-9a3b-4055e45bb8df",
   "metadata": {},
   "outputs": [
    {
     "name": "stdin",
     "output_type": "stream",
     "text": [
      "Enter a number:  768\n"
     ]
    },
    {
     "name": "stdout",
     "output_type": "stream",
     "text": [
      "867 is not a palindrome number\n"
     ]
    }
   ],
   "source": [
    "\n",
    "       # Get input number from the user\n",
    "num = int(input(\"Enter a number: \"))\n",
    "\n",
    "original_num = num\n",
    "\n",
    "rev_num = 0\n",
    "\n",
    "while num > 0:\n",
    "    digit = num % 10\n",
    "    rev_num = rev_num * 10 + digit\n",
    "    num = num // 10\n",
    "\n",
    "\n",
    "# Check if the reversed number is equal to the original number\n",
    "if original_num == rev_num:\n",
    "    print(rev_num, \"is a palindrome number\")\n",
    "else:\n",
    "    print(rev_num, \"is not a palindrome number\")\n",
    " \n",
    "        \n",
    "    \n",
    "    "
   ]
  },
  {
   "cell_type": "code",
   "execution_count": 47,
   "id": "ce45747d-e8bb-42b4-92b2-55b4463b5aa6",
   "metadata": {},
   "outputs": [
    {
     "data": {
      "text/plain": [
       "[1,\n",
       " 3,\n",
       " 5,\n",
       " 7,\n",
       " 9,\n",
       " 11,\n",
       " 13,\n",
       " 15,\n",
       " 17,\n",
       " 19,\n",
       " 21,\n",
       " 23,\n",
       " 25,\n",
       " 27,\n",
       " 29,\n",
       " 31,\n",
       " 33,\n",
       " 35,\n",
       " 37,\n",
       " 39,\n",
       " 41,\n",
       " 43,\n",
       " 45,\n",
       " 47,\n",
       " 49,\n",
       " 51,\n",
       " 53,\n",
       " 55,\n",
       " 57,\n",
       " 59,\n",
       " 61,\n",
       " 63,\n",
       " 65,\n",
       " 67,\n",
       " 69,\n",
       " 71,\n",
       " 73,\n",
       " 75,\n",
       " 77,\n",
       " 79,\n",
       " 81,\n",
       " 83,\n",
       " 85,\n",
       " 87,\n",
       " 89,\n",
       " 91,\n",
       " 93,\n",
       " 95,\n",
       " 97,\n",
       " 99]"
      ]
     },
     "execution_count": 47,
     "metadata": {},
     "output_type": "execute_result"
    }
   ],
   "source": [
    "# [x for x in range(1,101) if x%2 != 0]\n",
    "\n",
    "y = [x for x in range(1,101)]\n",
    "[z for z in y if z%2 !=0]"
   ]
  },
  {
   "cell_type": "code",
   "execution_count": null,
   "id": "7fad0c78-25e7-4f47-8d9e-5a84aaaaa564",
   "metadata": {},
   "outputs": [],
   "source": []
  }
 ],
 "metadata": {
  "kernelspec": {
   "display_name": "Python 3 (ipykernel)",
   "language": "python",
   "name": "python3"
  },
  "language_info": {
   "codemirror_mode": {
    "name": "ipython",
    "version": 3
   },
   "file_extension": ".py",
   "mimetype": "text/x-python",
   "name": "python",
   "nbconvert_exporter": "python",
   "pygments_lexer": "ipython3",
   "version": "3.10.8"
  }
 },
 "nbformat": 4,
 "nbformat_minor": 5
}
