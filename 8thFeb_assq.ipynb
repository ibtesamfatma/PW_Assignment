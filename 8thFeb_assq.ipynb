{
 "cells": [
  {
   "cell_type": "code",
   "execution_count": 21,
   "id": "b571d5db-3c66-41d4-bf2d-e09308aa1fd7",
   "metadata": {},
   "outputs": [],
   "source": [
    "import abc \n",
    "\n",
    "class Animal :\n",
    "    \n",
    "    @abc.abstractmethod\n",
    "    def animal_deatils(self):\n",
    "        raise Notimplementederror(\" this is abstarct class\")\n",
    "    \n",
    "    "
   ]
  },
  {
   "cell_type": "code",
   "execution_count": 22,
   "id": "3cbf0bff-9549-43ae-97d3-84ba9266c786",
   "metadata": {},
   "outputs": [],
   "source": [
    "class Dog(Animal):\n",
    "    \n",
    "    def animal_deatils(self):\n",
    "        return \" This is animal class\""
   ]
  },
  {
   "cell_type": "code",
   "execution_count": 23,
   "id": "b678938b-9e49-4458-b209-f5c9e0b2ef01",
   "metadata": {},
   "outputs": [],
   "source": [
    "Harry = Animal()"
   ]
  },
  {
   "cell_type": "code",
   "execution_count": 24,
   "id": "6621227f-0e9a-4a37-a7e3-ee41188fb3fc",
   "metadata": {},
   "outputs": [
    {
     "ename": "NameError",
     "evalue": "name 'Notimplementederror' is not defined",
     "output_type": "error",
     "traceback": [
      "\u001b[0;31m---------------------------------------------------------------------------\u001b[0m",
      "\u001b[0;31mNameError\u001b[0m                                 Traceback (most recent call last)",
      "Cell \u001b[0;32mIn[24], line 1\u001b[0m\n\u001b[0;32m----> 1\u001b[0m \u001b[43mHarry\u001b[49m\u001b[38;5;241;43m.\u001b[39;49m\u001b[43manimal_deatils\u001b[49m\u001b[43m(\u001b[49m\u001b[43m)\u001b[49m\n",
      "Cell \u001b[0;32mIn[21], line 7\u001b[0m, in \u001b[0;36mAnimal.animal_deatils\u001b[0;34m(self)\u001b[0m\n\u001b[1;32m      5\u001b[0m \u001b[38;5;129m@abc\u001b[39m\u001b[38;5;241m.\u001b[39mabstractmethod\n\u001b[1;32m      6\u001b[0m \u001b[38;5;28;01mdef\u001b[39;00m \u001b[38;5;21manimal_deatils\u001b[39m(\u001b[38;5;28mself\u001b[39m):\n\u001b[0;32m----> 7\u001b[0m     \u001b[38;5;28;01mraise\u001b[39;00m \u001b[43mNotimplementederror\u001b[49m(\u001b[38;5;124m\"\u001b[39m\u001b[38;5;124m this is abstarct class\u001b[39m\u001b[38;5;124m\"\u001b[39m)\n",
      "\u001b[0;31mNameError\u001b[0m: name 'Notimplementederror' is not defined"
     ]
    }
   ],
   "source": [
    "Harry.animal_deatils()\n"
   ]
  },
  {
   "cell_type": "code",
   "execution_count": 25,
   "id": "8babd5a6-c19b-492c-bcb8-25d1f0a917f6",
   "metadata": {},
   "outputs": [],
   "source": [
    "Chia = Dog()"
   ]
  },
  {
   "cell_type": "code",
   "execution_count": 26,
   "id": "be5b90b0-c1a8-4a44-afb7-2be2d93abe0f",
   "metadata": {},
   "outputs": [
    {
     "data": {
      "text/plain": [
       "' This is animal class'"
      ]
     },
     "execution_count": 26,
     "metadata": {},
     "output_type": "execute_result"
    }
   ],
   "source": [
    "Chia.animal_deatils()"
   ]
  },
  {
   "cell_type": "code",
   "execution_count": 27,
   "id": "ee920284-ce99-48ba-9268-0cd30a5356da",
   "metadata": {},
   "outputs": [],
   "source": [
    "# Encapsulation is to hide methods"
   ]
  },
  {
   "cell_type": "code",
   "execution_count": 28,
   "id": "41d47c58-8e1f-44c9-bb59-721dcbb65322",
   "metadata": {},
   "outputs": [],
   "source": [
    "import abc \n",
    "\n",
    "class Animal :\n",
    "    def __init__(self,name):\n",
    "        self.__name = name \n",
    "    \n"
   ]
  },
  {
   "cell_type": "code",
   "execution_count": 30,
   "id": "c9fb9f36-761a-43b4-bdf5-4bc5bbc95e12",
   "metadata": {},
   "outputs": [],
   "source": [
    "Sia = Animal(\"Sai\")"
   ]
  },
  {
   "cell_type": "code",
   "execution_count": 31,
   "id": "cf279e7c-afa6-49fd-bc1d-85166a4f6633",
   "metadata": {},
   "outputs": [],
   "source": [
    "# on hitiing tab name will not be prompted Sia."
   ]
  },
  {
   "cell_type": "markdown",
   "id": "8c4837ae-6cb3-4c0a-baea-6c7e4b3d5eca",
   "metadata": {},
   "source": [
    "This module provides the infrastructure for defining abstract base classes (ABCs) in Python,"
   ]
  },
  {
   "cell_type": "code",
   "execution_count": null,
   "id": "2e8816fc-de3f-4e91-8af9-1e928cd87d67",
   "metadata": {},
   "outputs": [],
   "source": []
  }
 ],
 "metadata": {
  "kernelspec": {
   "display_name": "Python 3 (ipykernel)",
   "language": "python",
   "name": "python3"
  },
  "language_info": {
   "codemirror_mode": {
    "name": "ipython",
    "version": 3
   },
   "file_extension": ".py",
   "mimetype": "text/x-python",
   "name": "python",
   "nbconvert_exporter": "python",
   "pygments_lexer": "ipython3",
   "version": "3.10.8"
  }
 },
 "nbformat": 4,
 "nbformat_minor": 5
}
