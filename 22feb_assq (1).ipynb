{
 "cells": [
  {
   "cell_type": "code",
   "execution_count": 2,
   "id": "8d4d121c-657c-4550-8b36-db37ff493cfb",
   "metadata": {},
   "outputs": [],
   "source": [
    "import pandas as pd"
   ]
  },
  {
   "cell_type": "code",
   "execution_count": 3,
   "id": "58d59bdc-efb4-4626-987b-b78eecc5f754",
   "metadata": {},
   "outputs": [],
   "source": [
    "df = pd.Series([4, 8, 15, 16, 23, 42])"
   ]
  },
  {
   "cell_type": "code",
   "execution_count": 4,
   "id": "594f660b-aab4-4e22-9bf4-22debf3324bd",
   "metadata": {},
   "outputs": [
    {
     "data": {
      "text/plain": [
       "0     4\n",
       "1     8\n",
       "2    15\n",
       "3    16\n",
       "4    23\n",
       "5    42\n",
       "dtype: int64"
      ]
     },
     "execution_count": 4,
     "metadata": {},
     "output_type": "execute_result"
    }
   ],
   "source": [
    "df"
   ]
  },
  {
   "cell_type": "code",
   "execution_count": 22,
   "id": "3eb63da3-6e9f-424b-984c-b33e82f1d07f",
   "metadata": {},
   "outputs": [],
   "source": [
    "data = list(range(1,20,2))"
   ]
  },
  {
   "cell_type": "code",
   "execution_count": 25,
   "id": "d7787ff6-e9b6-4609-ac1f-776b388e91d8",
   "metadata": {},
   "outputs": [],
   "source": [
    "df = pd.Series(data = data)"
   ]
  },
  {
   "cell_type": "code",
   "execution_count": 26,
   "id": "3653c18a-aa86-477a-ad11-d0ca18fc77b7",
   "metadata": {},
   "outputs": [
    {
     "data": {
      "text/plain": [
       "0     1\n",
       "1     3\n",
       "2     5\n",
       "3     7\n",
       "4     9\n",
       "5    11\n",
       "6    13\n",
       "7    15\n",
       "8    17\n",
       "9    19\n",
       "dtype: int64"
      ]
     },
     "execution_count": 26,
     "metadata": {},
     "output_type": "execute_result"
    }
   ],
   "source": [
    "df"
   ]
  },
  {
   "cell_type": "code",
   "execution_count": 33,
   "id": "b11eaa59-2039-4221-8cde-84fd95848bf2",
   "metadata": {},
   "outputs": [],
   "source": [
    "col1 = [\"Alice\",\"Bob\",\"Claire\"]\n",
    "col2 = [25,30,27]\n",
    "col3 = [\"Female\",\"Male\",\"Female\"]\n",
    "index = [\"Name\",\"Age\",\"Gender\"]"
   ]
  },
  {
   "cell_type": "code",
   "execution_count": 36,
   "id": "5cac7bab-6aa2-4bea-9b1f-ae3d4ba7ac87",
   "metadata": {},
   "outputs": [],
   "source": [
    "df = pd.DataFrame(data = [col1,col2,col3],index = index)"
   ]
  },
  {
   "cell_type": "code",
   "execution_count": 39,
   "id": "8c09e826-532d-45b7-ba3b-4800ed93606d",
   "metadata": {},
   "outputs": [],
   "source": [
    "df = df.transpose()"
   ]
  },
  {
   "cell_type": "code",
   "execution_count": 40,
   "id": "41ad9d15-8273-49f0-9184-4580eb71b5f4",
   "metadata": {},
   "outputs": [
    {
     "data": {
      "text/html": [
       "<div>\n",
       "<style scoped>\n",
       "    .dataframe tbody tr th:only-of-type {\n",
       "        vertical-align: middle;\n",
       "    }\n",
       "\n",
       "    .dataframe tbody tr th {\n",
       "        vertical-align: top;\n",
       "    }\n",
       "\n",
       "    .dataframe thead th {\n",
       "        text-align: right;\n",
       "    }\n",
       "</style>\n",
       "<table border=\"1\" class=\"dataframe\">\n",
       "  <thead>\n",
       "    <tr style=\"text-align: right;\">\n",
       "      <th></th>\n",
       "      <th>Age</th>\n",
       "      <th>Gender</th>\n",
       "    </tr>\n",
       "    <tr>\n",
       "      <th>Name</th>\n",
       "      <th></th>\n",
       "      <th></th>\n",
       "    </tr>\n",
       "  </thead>\n",
       "  <tbody>\n",
       "    <tr>\n",
       "      <th>Alice</th>\n",
       "      <td>25</td>\n",
       "      <td>Female</td>\n",
       "    </tr>\n",
       "    <tr>\n",
       "      <th>Bob</th>\n",
       "      <td>30</td>\n",
       "      <td>Male</td>\n",
       "    </tr>\n",
       "    <tr>\n",
       "      <th>Claire</th>\n",
       "      <td>27</td>\n",
       "      <td>Female</td>\n",
       "    </tr>\n",
       "  </tbody>\n",
       "</table>\n",
       "</div>"
      ],
      "text/plain": [
       "       Age  Gender\n",
       "Name              \n",
       "Alice   25  Female\n",
       "Bob     30    Male\n",
       "Claire  27  Female"
      ]
     },
     "execution_count": 40,
     "metadata": {},
     "output_type": "execute_result"
    }
   ],
   "source": [
    "df.set_index(\"Name\")"
   ]
  },
  {
   "cell_type": "markdown",
   "id": "3bde59be-f2df-4c46-8bd5-a3f8ed05ade1",
   "metadata": {},
   "source": [
    "DataFrame is a 2-dimensional labeled data structure with columns of \n",
    "potentially different types"
   ]
  },
  {
   "cell_type": "markdown",
   "id": "fee39b6d-d795-4040-bff0-417ef8695ef7",
   "metadata": {},
   "source": [
    "Homogenous – Series elements must be of the same data type. Heterogenous – DataFrame elements can have different data types. Size-immutable – Once created, the size of a Series object cannot be changed"
   ]
  },
  {
   "cell_type": "markdown",
   "id": "81ef6fdb-18cd-4dce-a7b3-f3fc4a017976",
   "metadata": {},
   "source": [
    "By adding or removing columns and rows\n",
    "merging two or more dataframe"
   ]
  },
  {
   "cell_type": "markdown",
   "id": "9da8ffbb-1cf2-49f1-b246-bb7421cb055e",
   "metadata": {},
   "source": [
    "Series is size mutuable , data frame is mutuable\n",
    "panel is mutuable"
   ]
  },
  {
   "cell_type": "code",
   "execution_count": 41,
   "id": "a99921a3-69de-41b2-9e3f-83f97caff708",
   "metadata": {},
   "outputs": [
    {
     "name": "stdout",
     "output_type": "stream",
     "text": [
      "    Fruit  Count\n",
      "0   apple     10\n",
      "1  banana      7\n",
      "2  cherry      4\n",
      "3  orange     12\n"
     ]
    }
   ],
   "source": [
    "import pandas as pd\n",
    "\n",
    "fruits = pd.Series(['apple', 'banana', 'cherry', 'orange'])\n",
    "count = pd.Series([10, 7, 4, 12])\n",
    "\n",
    "df = pd.DataFrame({'Fruit': fruits, 'Count': count})\n",
    "\n",
    "print(df)\n"
   ]
  },
  {
   "cell_type": "code",
   "execution_count": null,
   "id": "af56ce8a-2e6e-40fb-b229-6a76dbdcb4fb",
   "metadata": {},
   "outputs": [],
   "source": []
  }
 ],
 "metadata": {
  "kernelspec": {
   "display_name": "Python 3 (ipykernel)",
   "language": "python",
   "name": "python3"
  },
  "language_info": {
   "codemirror_mode": {
    "name": "ipython",
    "version": 3
   },
   "file_extension": ".py",
   "mimetype": "text/x-python",
   "name": "python",
   "nbconvert_exporter": "python",
   "pygments_lexer": "ipython3",
   "version": "3.10.8"
  }
 },
 "nbformat": 4,
 "nbformat_minor": 5
}
